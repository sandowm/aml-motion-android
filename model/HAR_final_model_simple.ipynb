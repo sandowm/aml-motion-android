{
  "nbformat": 4,
  "nbformat_minor": 0,
  "metadata": {
    "kernelspec": {
      "display_name": "Python 3",
      "language": "python",
      "name": "python3"
    },
    "language_info": {
      "codemirror_mode": {
        "name": "ipython",
        "version": 3
      },
      "file_extension": ".py",
      "mimetype": "text/x-python",
      "name": "python",
      "nbconvert_exporter": "python",
      "pygments_lexer": "ipython3",
      "version": "3.8.5"
    },
    "colab": {
      "name": "HAR_final_model-simple.ipynb",
      "provenance": [],
      "collapsed_sections": []
    },
    "accelerator": "GPU"
  },
  "cells": [
    {
      "cell_type": "code",
      "metadata": {
        "colab": {
          "base_uri": "https://localhost:8080/"
        },
        "id": "yr3N4o66QiXH",
        "outputId": "97288acb-6087-441c-9536-b851d7a44f8f"
      },
      "source": [
        "import os\n",
        "import sys\n",
        "ongoogle = False\n",
        "MyData=False\n",
        "train_model=False\n",
        "\n",
        "try:\n",
        "    from google.colab import drive\n",
        "    drive.mount('/content/drive')\n",
        "    ongoogle=True\n",
        "    if MyData:\n",
        "      datadir='/content/drive/My Drive/Output_ML_Acc'\n",
        "    else:\n",
        "      datadir='/content/drive/My Drive/CAS AML HAR/motion-sense/data'\n",
        "\n",
        "    os.chdir(datadir)\n",
        "    sys.path.insert(0,'/content/drive/My Drive/CAS AML HAR/motion-sense/data')\n",
        "    \n",
        "except ModuleNotFoundError:\n",
        "    os.chdir('d:/data/unibe/CAS-AML-Motion/motion-sense/data')\n",
        "    \n",
        "    #%tensorflow_version 1.x\n",
        "\n",
        "from matplotlib import  pyplot as plt\n",
        "import matplotlib.cm as cm\n",
        "\n",
        "import numpy as np\n",
        "import pandas as pd\n",
        "#from imageio import imread\n",
        "import pickle\n",
        "from PIL import Image\n",
        "from time import time as timer\n",
        "import requests\n",
        "import zipfile\n",
        "import time\n",
        "import os\n",
        "import csv\n",
        "import tensorflow as tf\n",
        "\n",
        "%matplotlib inline\n",
        "from matplotlib import animation\n",
        "from IPython.display import HTML\n",
        "import IPython\n",
        "\n",
        "\n",
        "#import umap\n",
        "from scipy.stats import entropy\n",
        "import re\n",
        "\n",
        "squeeze = 50\n",
        "subjectre=re.compile('^[sub_]*([0-9]+)\\.csv')\n",
        "labels= []\n",
        "for i in range(squeeze):\n",
        "    labels += [\"attitude.roll\",\"attitude.pitch\",\"attitude.yaw\",\"userAcceleration.x\",\"userAcceleration.y\",\"userAcceleration.z\"] \n",
        "\n",
        "activity = {'dws':0,'jog':1,'sit':2,'std':3,'ups':4,'wlk':5}\n",
        "data_array=[]\n",
        "if MyData:\n",
        "  Adatadir=os.path.join(datadir,'Output_ML_Acc')\n",
        "else:\n",
        "  Adatadir=os.path.join(datadir,'A_DeviceMotion_data')\n",
        "def get_csv_raw(csvfile):\n",
        "    reader = csv.reader(csvfile)\n",
        "    raw = []\n",
        "    rawidx=-1\n",
        "    for row in reader:\n",
        "        # Skip Header\n",
        "        if reader.line_num <=1: continue\n",
        "        lineindex=int(reader.line_num - 2)\n",
        "        if lineindex % squeeze == 0 or rawidx== -1:\n",
        "            rawidx += 1\n",
        "            raw.append([])\n",
        "        rawrow = []\n",
        "        # Get Attitude (1-3) and userAcceleration (10-12) from each line\n",
        "        for i in [1,2,3,4,5,6]: \n",
        "            try:\n",
        "                rawrow += [ float(row[i]) ]\n",
        "            except:\n",
        "                # Replace invalid values by 0\n",
        "                rawrow += [ 0.0 ]\n",
        "        # Add label as last elements of each squeezed row, the three zeroes are for magnetometer values\n",
        "        rawrow += [ 0, 0, 0, subjectNr, activity[act] ]\n",
        "        rawrow2 = []\n",
        "        for i in rawrow:\n",
        "            rawrow2 += [ i ]\n",
        "        raw[rawidx] += [ rawrow2 ]\n",
        "    return raw[:rawidx-1]\n",
        "\n",
        "exercise_raw=[]\n",
        "for exercise in os.listdir(Adatadir):\n",
        "    act = exercise.split('_')[0]\n",
        "    print (act)\n",
        "    for subjectFile in os.listdir(os.path.join(Adatadir,exercise)):\n",
        "        m = subjectre.search(subjectFile)\n",
        "        if m:\n",
        "          subjectNr = int(m.group(1))\n",
        "          exercise_raw += get_csv_raw(open(os.path.join(Adatadir,exercise,subjectFile)))\n",
        "\n",
        "            \n",
        "vals = np.zeros((len(exercise_raw), len(exercise_raw[0]), len(exercise_raw[0][0])))\n",
        "for i in range(len(exercise_raw)-1):\n",
        "    for k in range(squeeze-1):\n",
        "        vals[i,k] = exercise_raw[i][k]\n",
        "vals.shape"
      ],
      "execution_count": null,
      "outputs": [
        {
          "output_type": "stream",
          "text": [
            "Drive already mounted at /content/drive; to attempt to forcibly remount, call drive.mount(\"/content/drive\", force_remount=True).\n",
            "ups\n",
            "wlk\n",
            "std\n",
            "wlk\n",
            "sit\n",
            "std\n",
            "jog\n",
            "ups\n",
            "wlk\n",
            "sit\n",
            "ups\n",
            "dws\n",
            "dws\n",
            "jog\n",
            "dws\n"
          ],
          "name": "stdout"
        },
        {
          "output_type": "execute_result",
          "data": {
            "text/plain": [
              "(27712, 50, 11)"
            ]
          },
          "metadata": {
            "tags": []
          },
          "execution_count": 26
        }
      ]
    },
    {
      "cell_type": "code",
      "metadata": {
        "colab": {
          "base_uri": "https://localhost:8080/"
        },
        "id": "5K2I2yexomBA",
        "outputId": "8dd6e5ea-ba68-4e0e-d6c4-2a91ea99d7b2"
      },
      "source": [
        "# Own Data array([-0.035744,  0.122086,  0.311768, -2.08126 ,  2.080312, 13.070646,\n",
        "#        0.      ,  0.      ,  0.      ,  1.      ,  5.      ])\n",
        "vals[9,2]"
      ],
      "execution_count": null,
      "outputs": [
        {
          "output_type": "execute_result",
          "data": {
            "text/plain": [
              "array([-0.035744,  0.122086,  0.311768, -2.08126 ,  2.080312, 13.070646,\n",
              "        0.      ,  0.      ,  0.      ,  1.      ,  5.      ])"
            ]
          },
          "metadata": {
            "tags": []
          },
          "execution_count": 2
        }
      ]
    },
    {
      "cell_type": "code",
      "metadata": {
        "colab": {
          "base_uri": "https://localhost:8080/"
        },
        "id": "qwb6e4PXK4hu",
        "outputId": "26eff0b5-aead-423f-8cca-ed6d48fdae29"
      },
      "source": [
        "from sklearn.model_selection import train_test_split\n",
        "from sklearn.preprocessing import RobustScaler\n",
        "from sklearn.preprocessing import OneHotEncoder\n",
        "import keras\n",
        "\n",
        "## Train / Test Split\n",
        "X=vals[:,:,:6]\n",
        "Y=vals[:,0,10]\n",
        "X_train, X_test, Y_train, Y_test = train_test_split(X, Y, test_size=0.20, random_state=777)\n",
        "\n",
        "n_train=X_train.shape[0]\n",
        "\n",
        "print(X_train.shape, Y_train.shape, X_test.shape, Y_test.shape, n_train)\n",
        "\n",
        "Y_train = Y_train.reshape(-1,1)\n",
        "import pickle\n",
        "if train_model:\n",
        "  ## Scaler\n",
        "  scaler = RobustScaler()\n",
        "  scaler = scaler.fit(X_train.reshape(X_train.shape[1]*X_train.shape[0],6))\n",
        "  with open(\"scaler\", \"wb\") as f: \n",
        "      pickle.dump(scaler, f)\n",
        "  ## One Hot Encoding\n",
        "  one = OneHotEncoder(handle_unknown='ignore', sparse=False)\n",
        "  one = one.fit(Y_train)\n",
        "  with open(\"encoder\", \"wb\") as f: \n",
        "     pickle.dump(one, f)\n",
        "else:\n",
        "  with open(\"encoder\", \"rb\") as f: \n",
        "    one = pickle.load(f)\n",
        "    print(one)\n",
        "  with open(\"scaler\",\"rb\") as f:\n",
        "    scaler = pickle.load(f)\n",
        "\n",
        "for a in [X_train, X_test]:\n",
        "  for i in range(len(a)):\n",
        "    a[i][:] = scaler.transform (a[i][:])\n",
        "print(X_train.shape,X_train[3][7])\n",
        "\n",
        "Y_test = one.transform(Y_test.reshape(-1,1))#[:,0]\n",
        "Y_train = one.transform(Y_train)#[:,0]\n",
        "\n",
        "print(Y_test.shape, Y_test[:9])\n"
      ],
      "execution_count": null,
      "outputs": [
        {
          "output_type": "stream",
          "text": [
            "(22169, 50, 6) (22169,) (5543, 50, 6) (5543,) 22169\n",
            "OneHotEncoder(categories='auto', drop=None, dtype=<class 'numpy.float64'>,\n",
            "              handle_unknown='ignore', sparse=False)\n",
            "(22169, 50, 6) [-0.93417303  0.90154953  0.04293507 -1.86308349 -1.07707362  1.12636867]\n",
            "(5543, 6) [[0. 0. 1. 0. 0. 0.]\n",
            " [0. 0. 0. 0. 0. 1.]\n",
            " [0. 0. 0. 0. 0. 1.]\n",
            " [0. 0. 0. 0. 0. 1.]\n",
            " [0. 1. 0. 0. 0. 0.]\n",
            " [0. 0. 1. 0. 0. 0.]\n",
            " [0. 0. 1. 0. 0. 0.]\n",
            " [0. 0. 1. 0. 0. 0.]\n",
            " [0. 0. 0. 0. 0. 1.]]\n"
          ],
          "name": "stdout"
        }
      ]
    },
    {
      "cell_type": "code",
      "metadata": {
        "colab": {
          "base_uri": "https://localhost:8080/",
          "height": 284
        },
        "id": "6Vm6KaYQH34d",
        "outputId": "6706b3b4-fa0a-4cfd-8037-eacbb0678307"
      },
      "source": [
        "#print(Y_test.shape, Y_test[:9])\n",
        "#print(Y_test[:,0].shape)\n",
        "import matplotlib\n",
        "matplotlib.pyplot.imshow(X_test[8])\n"
      ],
      "execution_count": null,
      "outputs": [
        {
          "output_type": "execute_result",
          "data": {
            "text/plain": [
              "<matplotlib.image.AxesImage at 0x7faefe2285d0>"
            ]
          },
          "metadata": {
            "tags": []
          },
          "execution_count": 51
        },
        {
          "output_type": "display_data",
          "data": {
            "image/png": "[encoded data removed]",
            "text/plain": [
              "<Figure size 432x288 with 1 Axes>"
            ]
          },
          "metadata": {
            "tags": [],
            "needs_background": "light"
          }
        }
      ]
    },
    {
      "cell_type": "code",
      "metadata": {
        "colab": {
          "base_uri": "https://localhost:8080/"
        },
        "id": "_eS_U91lHpWn",
        "outputId": "d8b1f1f6-a972-4d6d-fcd8-f5fe8ab7a6e0"
      },
      "source": [
        "one.inverse_transform(model.predict(X_test[9]))"
      ],
      "execution_count": null,
      "outputs": [
        {
          "output_type": "execute_result",
          "data": {
            "text/plain": [
              "array([[3.]])"
            ]
          },
          "metadata": {
            "tags": []
          },
          "execution_count": 45
        }
      ]
    },
    {
      "cell_type": "code",
      "metadata": {
        "id": "-m8CpZ60QLVo",
        "colab": {
          "base_uri": "https://localhost:8080/"
        },
        "outputId": "bf01ae93-f08d-4a2d-f418-f7d751387f9b"
      },
      "source": [
        "model = keras.Sequential()\n",
        "\n",
        "model.add(keras.layers.Conv1D(filters=6, kernel_size=6,strides=2,input_shape=[X_train.shape[1], X_train.shape[2]]))\n",
        "model.add(keras.layers.Bidirectional( keras.layers.LSTM(units=128, \n",
        "         input_shape=[X_train.shape[1] /2, X_train.shape[2]]\n",
        ")))\n",
        "model.add(keras.layers.Dense(units=128, activation='relu'))\n",
        "model.add(keras.layers.Dropout(rate=0.5))\n",
        "\n",
        "model.add(keras.layers.Dense(Y_test.shape[1], activation='softmax'))\n",
        "model.compile(loss='categorical_crossentropy', optimizer='adam', metrics=['acc'])\n",
        "model.summary()"
      ],
      "execution_count": null,
      "outputs": [
        {
          "output_type": "stream",
          "text": [
            "Model: \"sequential_4\"\n",
            "_________________________________________________________________\n",
            "Layer (type)                 Output Shape              Param #   \n",
            "=================================================================\n",
            "conv1d_4 (Conv1D)            (None, 23, 6)             222       \n",
            "_________________________________________________________________\n",
            "bidirectional_4 (Bidirection (None, 256)               138240    \n",
            "_________________________________________________________________\n",
            "dense_8 (Dense)              (None, 128)               32896     \n",
            "_________________________________________________________________\n",
            "dropout_4 (Dropout)          (None, 128)               0         \n",
            "_________________________________________________________________\n",
            "dense_9 (Dense)              (None, 6)                 774       \n",
            "=================================================================\n",
            "Total params: 172,132\n",
            "Trainable params: 172,132\n",
            "Non-trainable params: 0\n",
            "_________________________________________________________________\n"
          ],
          "name": "stdout"
        }
      ]
    },
    {
      "cell_type": "code",
      "metadata": {
        "id": "tbfoZ4EATJX-"
      },
      "source": [
        "## This replaces Conv1d above\n",
        "# model.add(keras.layers.Bidirectional( keras.layers.LSTM(units=128, \n",
        "#          input_shape=[X_train.shape[1], X_train.shape[2]]\n",
        "# )))"
      ],
      "execution_count": null,
      "outputs": []
    },
    {
      "cell_type": "code",
      "metadata": {
        "id": "U-qJ4Z5YQTR3",
        "colab": {
          "base_uri": "https://localhost:8080/"
        },
        "outputId": "88b3dee8-6c3a-4d1a-926d-cc78eb82e147"
      },
      "source": [
        "if train_model:\n",
        "  history = model.fit(\n",
        "      X_train, Y_train,\n",
        "      epochs=50,\n",
        "      batch_size=64,\n",
        "      validation_split=0.1,\n",
        "      shuffle=False\n",
        "  )\n",
        "  model.save('simple_model')\n",
        "else:\n",
        "  model = keras.models.load_model('simple_model')"
      ],
      "execution_count": null,
      "outputs": [
        {
          "output_type": "stream",
          "text": [
            "Epoch 1/50\n",
            "62/62 [==============================] - 5s 33ms/step - loss: 1.4742 - acc: 0.4353 - val_loss: 0.7071 - val_acc: 0.7626\n",
            "Epoch 2/50\n",
            "62/62 [==============================] - 1s 18ms/step - loss: 0.7661 - acc: 0.7207 - val_loss: 0.5131 - val_acc: 0.8059\n",
            "Epoch 3/50\n",
            "62/62 [==============================] - 1s 18ms/step - loss: 0.5906 - acc: 0.7830 - val_loss: 0.4634 - val_acc: 0.8447\n",
            "Epoch 4/50\n",
            "62/62 [==============================] - 1s 18ms/step - loss: 0.5199 - acc: 0.8107 - val_loss: 0.4352 - val_acc: 0.8447\n",
            "Epoch 5/50\n",
            "62/62 [==============================] - 1s 18ms/step - loss: 0.4524 - acc: 0.8223 - val_loss: 0.3752 - val_acc: 0.8607\n",
            "Epoch 6/50\n",
            "62/62 [==============================] - 1s 18ms/step - loss: 0.3980 - acc: 0.8471 - val_loss: 0.3265 - val_acc: 0.8767\n",
            "Epoch 7/50\n",
            "62/62 [==============================] - 1s 18ms/step - loss: 0.3332 - acc: 0.8648 - val_loss: 0.3009 - val_acc: 0.8927\n",
            "Epoch 8/50\n",
            "62/62 [==============================] - 1s 18ms/step - loss: 0.2898 - acc: 0.8795 - val_loss: 0.2800 - val_acc: 0.9018\n",
            "Epoch 9/50\n",
            "62/62 [==============================] - 1s 18ms/step - loss: 0.2757 - acc: 0.8871 - val_loss: 0.2657 - val_acc: 0.9110\n",
            "Epoch 10/50\n",
            "62/62 [==============================] - 1s 18ms/step - loss: 0.2632 - acc: 0.8941 - val_loss: 0.2583 - val_acc: 0.9087\n",
            "Epoch 11/50\n",
            "62/62 [==============================] - 1s 18ms/step - loss: 0.2275 - acc: 0.9027 - val_loss: 0.2382 - val_acc: 0.9224\n",
            "Epoch 12/50\n",
            "62/62 [==============================] - 1s 18ms/step - loss: 0.1998 - acc: 0.9155 - val_loss: 0.2460 - val_acc: 0.9110\n",
            "Epoch 13/50\n",
            "62/62 [==============================] - 1s 18ms/step - loss: 0.2042 - acc: 0.9228 - val_loss: 0.2320 - val_acc: 0.9247\n",
            "Epoch 14/50\n",
            "62/62 [==============================] - 1s 18ms/step - loss: 0.1809 - acc: 0.9268 - val_loss: 0.2516 - val_acc: 0.9178\n",
            "Epoch 15/50\n",
            "62/62 [==============================] - 1s 18ms/step - loss: 0.1535 - acc: 0.9333 - val_loss: 0.2038 - val_acc: 0.9315\n",
            "Epoch 16/50\n",
            "62/62 [==============================] - 1s 18ms/step - loss: 0.1330 - acc: 0.9402 - val_loss: 0.2198 - val_acc: 0.9247\n",
            "Epoch 17/50\n",
            "62/62 [==============================] - 1s 18ms/step - loss: 0.1379 - acc: 0.9410 - val_loss: 0.2569 - val_acc: 0.9178\n",
            "Epoch 18/50\n",
            "62/62 [==============================] - 1s 18ms/step - loss: 0.1335 - acc: 0.9467 - val_loss: 0.2390 - val_acc: 0.9292\n",
            "Epoch 19/50\n",
            "62/62 [==============================] - 1s 18ms/step - loss: 0.1101 - acc: 0.9525 - val_loss: 0.2400 - val_acc: 0.9269\n",
            "Epoch 20/50\n",
            "62/62 [==============================] - 1s 18ms/step - loss: 0.1071 - acc: 0.9557 - val_loss: 0.2656 - val_acc: 0.9224\n",
            "Epoch 21/50\n",
            "62/62 [==============================] - 1s 18ms/step - loss: 0.0920 - acc: 0.9617 - val_loss: 0.2817 - val_acc: 0.9292\n",
            "Epoch 22/50\n",
            "62/62 [==============================] - 1s 18ms/step - loss: 0.0949 - acc: 0.9578 - val_loss: 0.2829 - val_acc: 0.9201\n",
            "Epoch 23/50\n",
            "62/62 [==============================] - 1s 18ms/step - loss: 0.1090 - acc: 0.9524 - val_loss: 0.2610 - val_acc: 0.9338\n",
            "Epoch 24/50\n",
            "62/62 [==============================] - 1s 18ms/step - loss: 0.1228 - acc: 0.9524 - val_loss: 0.2923 - val_acc: 0.9269\n",
            "Epoch 25/50\n",
            "62/62 [==============================] - 1s 18ms/step - loss: 0.1006 - acc: 0.9561 - val_loss: 0.2895 - val_acc: 0.9224\n",
            "Epoch 26/50\n",
            "62/62 [==============================] - 1s 18ms/step - loss: 0.0842 - acc: 0.9615 - val_loss: 0.2966 - val_acc: 0.9269\n",
            "Epoch 27/50\n",
            "62/62 [==============================] - 1s 18ms/step - loss: 0.0841 - acc: 0.9623 - val_loss: 0.2790 - val_acc: 0.9315\n",
            "Epoch 28/50\n",
            "62/62 [==============================] - 1s 18ms/step - loss: 0.0741 - acc: 0.9696 - val_loss: 0.3113 - val_acc: 0.9155\n",
            "Epoch 29/50\n",
            "62/62 [==============================] - 1s 18ms/step - loss: 0.0642 - acc: 0.9731 - val_loss: 0.3574 - val_acc: 0.9247\n",
            "Epoch 30/50\n",
            "62/62 [==============================] - 1s 18ms/step - loss: 0.0799 - acc: 0.9629 - val_loss: 0.3984 - val_acc: 0.9064\n",
            "Epoch 31/50\n",
            "62/62 [==============================] - 1s 18ms/step - loss: 0.0866 - acc: 0.9610 - val_loss: 0.3426 - val_acc: 0.9201\n",
            "Epoch 32/50\n",
            "62/62 [==============================] - 1s 18ms/step - loss: 0.0690 - acc: 0.9662 - val_loss: 0.3264 - val_acc: 0.9132\n",
            "Epoch 33/50\n",
            "62/62 [==============================] - 1s 18ms/step - loss: 0.0565 - acc: 0.9729 - val_loss: 0.3543 - val_acc: 0.9269\n",
            "Epoch 34/50\n",
            "62/62 [==============================] - 1s 18ms/step - loss: 0.0523 - acc: 0.9751 - val_loss: 0.3589 - val_acc: 0.9178\n",
            "Epoch 35/50\n",
            "62/62 [==============================] - 1s 18ms/step - loss: 0.0621 - acc: 0.9695 - val_loss: 0.3482 - val_acc: 0.9132\n",
            "Epoch 36/50\n",
            "62/62 [==============================] - 1s 18ms/step - loss: 0.0521 - acc: 0.9763 - val_loss: 0.2991 - val_acc: 0.9361\n",
            "Epoch 37/50\n",
            "62/62 [==============================] - 1s 18ms/step - loss: 0.0577 - acc: 0.9731 - val_loss: 0.3343 - val_acc: 0.9132\n",
            "Epoch 38/50\n",
            "62/62 [==============================] - 1s 19ms/step - loss: 0.0566 - acc: 0.9739 - val_loss: 0.3312 - val_acc: 0.9087\n",
            "Epoch 39/50\n",
            "62/62 [==============================] - 1s 18ms/step - loss: 0.0484 - acc: 0.9728 - val_loss: 0.3425 - val_acc: 0.9315\n",
            "Epoch 40/50\n",
            "62/62 [==============================] - 1s 18ms/step - loss: 0.0435 - acc: 0.9762 - val_loss: 0.3569 - val_acc: 0.9269\n",
            "Epoch 41/50\n",
            "62/62 [==============================] - 1s 18ms/step - loss: 0.0518 - acc: 0.9720 - val_loss: 0.3716 - val_acc: 0.9269\n",
            "Epoch 42/50\n",
            "62/62 [==============================] - 1s 18ms/step - loss: 0.0375 - acc: 0.9824 - val_loss: 0.3485 - val_acc: 0.9247\n",
            "Epoch 43/50\n",
            "62/62 [==============================] - 1s 18ms/step - loss: 0.0451 - acc: 0.9753 - val_loss: 0.3484 - val_acc: 0.9338\n",
            "Epoch 44/50\n",
            "62/62 [==============================] - 1s 18ms/step - loss: 0.0429 - acc: 0.9783 - val_loss: 0.3896 - val_acc: 0.9110\n",
            "Epoch 45/50\n",
            "62/62 [==============================] - 1s 18ms/step - loss: 0.1294 - acc: 0.9605 - val_loss: 0.3779 - val_acc: 0.9269\n",
            "Epoch 46/50\n",
            "62/62 [==============================] - 1s 18ms/step - loss: 0.0890 - acc: 0.9649 - val_loss: 0.2974 - val_acc: 0.9406\n",
            "Epoch 47/50\n",
            "62/62 [==============================] - 1s 18ms/step - loss: 0.0485 - acc: 0.9762 - val_loss: 0.3110 - val_acc: 0.9384\n",
            "Epoch 48/50\n",
            "62/62 [==============================] - 1s 19ms/step - loss: 0.0401 - acc: 0.9807 - val_loss: 0.3173 - val_acc: 0.9384\n",
            "Epoch 49/50\n",
            "62/62 [==============================] - 1s 18ms/step - loss: 0.0353 - acc: 0.9843 - val_loss: 0.3544 - val_acc: 0.9361\n",
            "Epoch 50/50\n",
            "62/62 [==============================] - 1s 18ms/step - loss: 0.0454 - acc: 0.9796 - val_loss: 0.3777 - val_acc: 0.9292\n"
          ],
          "name": "stdout"
        },
        {
          "output_type": "stream",
          "text": [
            "WARNING:absl:Found untraced functions such as lstm_cell_13_layer_call_and_return_conditional_losses, lstm_cell_13_layer_call_fn, lstm_cell_14_layer_call_and_return_conditional_losses, lstm_cell_14_layer_call_fn, lstm_cell_13_layer_call_fn while saving (showing 5 of 10). These functions will not be directly callable after loading.\n",
            "WARNING:absl:Found untraced functions such as lstm_cell_13_layer_call_and_return_conditional_losses, lstm_cell_13_layer_call_fn, lstm_cell_14_layer_call_and_return_conditional_losses, lstm_cell_14_layer_call_fn, lstm_cell_13_layer_call_fn while saving (showing 5 of 10). These functions will not be directly callable after loading.\n"
          ],
          "name": "stderr"
        },
        {
          "output_type": "stream",
          "text": [
            "INFO:tensorflow:Assets written to: simple_model/assets\n"
          ],
          "name": "stdout"
        },
        {
          "output_type": "stream",
          "text": [
            "INFO:tensorflow:Assets written to: simple_model/assets\n"
          ],
          "name": "stderr"
        }
      ]
    },
    {
      "cell_type": "code",
      "metadata": {
        "colab": {
          "base_uri": "https://localhost:8080/",
          "height": 265
        },
        "id": "YMaz3TSAoDGe",
        "outputId": "39e20128-70c1-4c9d-a4be-a256099fcc5a"
      },
      "source": [
        "if train_model:\n",
        "  plt.plot(history.history['loss'], label='train')\n",
        "  plt.plot(history.history['val_loss'], label='test')\n",
        "  plt.legend();"
      ],
      "execution_count": null,
      "outputs": [
        {
          "output_type": "display_data",
          "data": {
            "image/png": "[encoded data removed]",
            "text/plain": [
              "<Figure size 432x288 with 1 Axes>"
            ]
          },
          "metadata": {
            "tags": [],
            "needs_background": "light"
          }
        }
      ]
    },
    {
      "cell_type": "code",
      "metadata": {
        "id": "cEOe55mPmuLU"
      },
      "source": [
        ""
      ],
      "execution_count": null,
      "outputs": []
    },
    {
      "cell_type": "code",
      "metadata": {
        "colab": {
          "base_uri": "https://localhost:8080/",
          "height": 375
        },
        "id": "NUnvyr2Encg7",
        "outputId": "a7390280-56e6-4ffe-a395-f43f5fe01aec"
      },
      "source": [
        "  from sklearn.metrics import confusion_matrix\n",
        "  y_pred = model.predict(X_test)\n",
        "\n",
        "  act = ('dws','jog','sit','std','ups','wlk')\n",
        "  import seaborn as sns\n",
        "\n",
        "  cm = confusion_matrix(one.inverse_transform(Y_test), one.inverse_transform(y_pred), labels=None, sample_weight=None, normalize=None)\n",
        "  f = sns.heatmap(cm, annot=True)\n",
        "  f.set_xticklabels(act)\n",
        "  f.set_yticklabels(act)"
      ],
      "execution_count": null,
      "outputs": [
        {
          "output_type": "execute_result",
          "data": {
            "text/plain": [
              "[Text(0, 0.5, 'dws'),\n",
              " Text(0, 1.5, 'jog'),\n",
              " Text(0, 2.5, 'sit'),\n",
              " Text(0, 3.5, 'std'),\n",
              " Text(0, 4.5, 'ups'),\n",
              " Text(0, 5.5, 'wlk')]"
            ]
          },
          "metadata": {
            "tags": []
          },
          "execution_count": 30
        },
        {
          "output_type": "display_data",
          "data": {
            "image/png": "[encoded data removed]",
            "text/plain": [
              "<Figure size 432x288 with 2 Axes>"
            ]
          },
          "metadata": {
            "tags": [],
            "needs_background": "light"
          }
        }
      ]
    },
    {
      "cell_type": "code",
      "metadata": {
        "id": "yff9_moitG0Y",
        "colab": {
          "base_uri": "https://localhost:8080/",
          "height": 644
        },
        "outputId": "b435a881-d98c-46f7-e1ac-32119e3c3932"
      },
      "source": [
        "tf.keras.utils.plot_model(\n",
        "    model,\n",
        "    to_file=\"model.png\",\n",
        "    show_shapes=True,\n",
        "    show_dtype=True,\n",
        "    show_layer_names=True,\n",
        "    rankdir=\"TB\",\n",
        "    expand_nested=True,\n",
        "    dpi=96,\n",
        ")"
      ],
      "execution_count": null,
      "outputs": [
        {
          "output_type": "execute_result",
          "data": {
            "image/png": "[encoded data removed]",
            "text/plain": [
              "<IPython.core.display.Image object>"
            ]
          },
          "metadata": {
            "tags": []
          },
          "execution_count": 11
        }
      ]
    },
    {
      "cell_type": "code",
      "metadata": {
        "colab": {
          "base_uri": "https://localhost:8080/"
        },
        "id": "p2CasLQPFLZX",
        "outputId": "455091d4-9bc1-481d-f9b3-1edf5ce88194"
      },
      "source": [
        "print(\"Evaluate on test data\")\n",
        "results = model.evaluate(X_test, Y_test, batch_size=128)\n",
        "print(\"test loss, test acc:\", results)"
      ],
      "execution_count": null,
      "outputs": [
        {
          "output_type": "stream",
          "text": [
            "Evaluate on test data\n",
            "44/44 [==============================] - 0s 8ms/step - loss: 8.6186 - acc: 0.1698\n",
            "test loss, test acc: [8.618638038635254, 0.16976366937160492]\n"
          ],
          "name": "stdout"
        }
      ]
    },
    {
      "cell_type": "code",
      "metadata": {
        "id": "lcM1TNjoODEQ",
        "colab": {
          "base_uri": "https://localhost:8080/"
        },
        "outputId": "6ed462ae-9861-496f-d418-3fd91811dd96"
      },
      "source": [
        "def test_model(model, X_val, Y_val, batch_size, W_comb=None, H_comb=None):\n",
        "    if not W_comb:\n",
        "        W_comb = X_val.shape[1]\n",
        "    if not H_comb:\n",
        "        H_comb = list(range(X_val.shape[2]))\n",
        "    val_accuracy = tf.keras.metrics.Accuracy()\n",
        "    val_dataset = tf.data.Dataset.from_tensor_slices((X_val, Y_val))\n",
        "    val_dataset = val_dataset.batch(batch_size)\n",
        "    for (X, Y) in val_dataset:\n",
        "        #X = X[:,:,H_comb]\n",
        "        #X = tf.image.resize(X, (W_comb, len(H_comb)))\n",
        "        logits = model(X)\n",
        "        prediction = tf.argmax(logits, axis=1, output_type=tf.int32)\n",
        "        val_accuracy(prediction, Y)\n",
        "    return val_accuracy.result()\n",
        "W_combinations = list(np.arange(16,129,16))\n",
        "H_combinations = [[0,1,2], [3,4,5], [6,7,8], \n",
        "                  [0,1,2,3,4,5], [0,1,2,6,7,8],\n",
        "                  [3,4,5,0,1,2], [3,4,5,6,7,8],\n",
        "                  [6,7,8,0,1,2], [6,7,8,3,4,5],\n",
        "                  [0,1,2,3,4,5,6,7,8],[0,1,2,6,7,8,3,4,5],\n",
        "                  [3,4,5,0,1,2,6,7,8],[3,4,5,6,7,8,0,1,2], \n",
        "                  [6,7,8,3,4,5,0,1,2],[6,7,8,0,1,2,3,4,5]] ## Acc & Gyr & Mgn\n",
        "\n",
        "W_combinations_validation = W_combinations\n",
        "H_combinations_validation = [[0,1,2], [3,4,5], [6,7,8],\n",
        "                  [0,1,2,3,4,5], [0,1,2,6,7,8],[3,4,5,6,7,8],\n",
        "                  [0,1,2,3,4,5,6,7,8]]\n",
        "n_batch_per_train_setp = 5\n",
        "run=1\n",
        "best_accuracy_record = np.zeros((len(W_combinations_validation),len(H_combinations_validation)))\n",
        "for w in range(len(W_combinations_validation)):\n",
        "    for h in range(len(H_combinations_validation)):\n",
        "        print (h)\n",
        "        best_accuracy_record[w,h] = test_model(model, X_test, Y_test, 128,\n",
        "                                            W_combinations_validation[w],\n",
        "                                            H_combinations_validation[h])\n",
        "\n",
        "print(\"\\n Run {} *** Mean of Test Accuraccies: {:.3f}\".format(run, np.mean(best_accuracy_record)))\n",
        "print(\"\\n Run {} *** Test Accuraccies: {} \".format(run, (best_accuracy_record)))"
      ],
      "execution_count": null,
      "outputs": [
        {
          "output_type": "stream",
          "text": [
            "0\n",
            "1\n",
            "2\n",
            "3\n",
            "4\n",
            "5\n",
            "6\n",
            "0\n",
            "1\n",
            "2\n",
            "3\n",
            "4\n",
            "5\n",
            "6\n",
            "0\n",
            "1\n",
            "2\n",
            "3\n",
            "4\n",
            "5\n",
            "6\n",
            "0\n",
            "1\n",
            "2\n",
            "3\n",
            "4\n",
            "5\n",
            "6\n",
            "0\n",
            "1\n",
            "2\n",
            "3\n",
            "4\n",
            "5\n",
            "6\n",
            "0\n",
            "1\n",
            "2\n",
            "3\n",
            "4\n",
            "5\n",
            "6\n",
            "0\n",
            "1\n",
            "2\n",
            "3\n",
            "4\n",
            "5\n",
            "6\n",
            "0\n",
            "1\n",
            "2\n",
            "3\n",
            "4\n",
            "5\n",
            "6\n",
            "\n",
            " Run 1 *** Mean of Test Accuraccies: 0.022\n",
            "\n",
            " Run 1 *** Test Accuraccies: [[0.02153558 0.02153558 0.02153558 0.02153558 0.02153558 0.02153558\n",
            "  0.02153558]\n",
            " [0.02153558 0.02153558 0.02153558 0.02153558 0.02153558 0.02153558\n",
            "  0.02153558]\n",
            " [0.02153558 0.02153558 0.02153558 0.02153558 0.02153558 0.02153558\n",
            "  0.02153558]\n",
            " [0.02153558 0.02153558 0.02153558 0.02153558 0.02153558 0.02153558\n",
            "  0.02153558]\n",
            " [0.02153558 0.02153558 0.02153558 0.02153558 0.02153558 0.02153558\n",
            "  0.02153558]\n",
            " [0.02153558 0.02153558 0.02153558 0.02153558 0.02153558 0.02153558\n",
            "  0.02153558]\n",
            " [0.02153558 0.02153558 0.02153558 0.02153558 0.02153558 0.02153558\n",
            "  0.02153558]\n",
            " [0.02153558 0.02153558 0.02153558 0.02153558 0.02153558 0.02153558\n",
            "  0.02153558]] \n"
          ],
          "name": "stdout"
        }
      ]
    },
    {
      "cell_type": "code",
      "metadata": {
        "id": "38RLacqqfgga"
      },
      "source": [
        "logits = model(X_train[0:7])"
      ],
      "execution_count": null,
      "outputs": []
    },
    {
      "cell_type": "code",
      "metadata": {
        "id": "A__5JB3fxGLo"
      },
      "source": [
        "prediction = tf.argmax(logits, axis=1, output_type=tf.int32)"
      ],
      "execution_count": null,
      "outputs": []
    }
  ]
}